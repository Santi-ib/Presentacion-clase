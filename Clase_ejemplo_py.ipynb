{
  "nbformat": 4,
  "nbformat_minor": 0,
  "metadata": {
    "colab": {
      "name": "Clase ejemplo.py",
      "provenance": [],
      "authorship_tag": "ABX9TyMwtmF2w3SkwDi7rwZgIDHk",
      "include_colab_link": true
    },
    "kernelspec": {
      "name": "python3",
      "display_name": "Python 3"
    },
    "language_info": {
      "name": "python"
    }
  },
  "cells": [
    {
      "cell_type": "markdown",
      "metadata": {
        "id": "view-in-github",
        "colab_type": "text"
      },
      "source": [
        "<a href=\"https://colab.research.google.com/github/Santi-ib/Presentacion-clase/blob/main/Clase_ejemplo_py.ipynb\" target=\"_parent\"><img src=\"https://colab.research.google.com/assets/colab-badge.svg\" alt=\"Open In Colab\"/></a>"
      ]
    },
    {
      "cell_type": "code",
      "execution_count": null,
      "metadata": {
        "id": "lv0Xx7oi4bqy"
      },
      "outputs": [],
      "source": [
        ""
      ]
    },
    {
      "cell_type": "markdown",
      "source": [
        "#calse Calculo\n"
      ],
      "metadata": {
        "id": "mbJtCaGr4gSJ"
      }
    },
    {
      "cell_type": "markdown",
      "source": [
        "##calse 5/8"
      ],
      "metadata": {
        "id": "iSikv6ZL4trF"
      }
    },
    {
      "cell_type": "markdown",
      "source": [
        "###calse 1"
      ],
      "metadata": {
        "id": "HUxiJCp143KW"
      }
    },
    {
      "cell_type": "code",
      "source": [
        ""
      ],
      "metadata": {
        "id": "NcMNsXDN45Vj"
      },
      "execution_count": null,
      "outputs": []
    }
  ]
}